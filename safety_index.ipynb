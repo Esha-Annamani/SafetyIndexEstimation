{
  "nbformat": 4,
  "nbformat_minor": 0,
  "metadata": {
    "colab": {
      "provenance": []
    },
    "kernelspec": {
      "name": "python3",
      "display_name": "Python 3"
    },
    "language_info": {
      "name": "python"
    }
  },
  "cells": [
    {
      "cell_type": "markdown",
      "source": [
        "LOCATION SPECIFIC SAFETY INDEX ESTIMATION BY CRIME ANALYSIS USING MACHINE LEARNING TECHNIQUES"
      ],
      "metadata": {
        "id": "9Np21S4TkU6z"
      }
    },
    {
      "cell_type": "markdown",
      "source": [
        "Importing Libraries"
      ],
      "metadata": {
        "id": "fRFnsGtskqXk"
      }
    },
    {
      "cell_type": "code",
      "execution_count": null,
      "metadata": {
        "id": "HiwB_MDxCwXl"
      },
      "outputs": [],
      "source": [
        "import pickle\n",
        "import plotly as py\n",
        "import plotly.tools as tls\n",
        "from plotly.graph_objs import *\n",
        "from datetime import datetime\n",
        "from collections import Counter\n",
        "import itertools\n",
        "import numpy as np\n",
        "import pandas as pd\n",
        "import matplotlib.pyplot as plt\n",
        "import matplotlib.ticker as ticker\n",
        "import seaborn as sns\n",
        "import os\n",
        "import random\n",
        "\n",
        "import warnings \n",
        "warnings.filterwarnings(\"ignore\")"
      ]
    },
    {
      "cell_type": "markdown",
      "source": [
        "Import dataset from drive"
      ],
      "metadata": {
        "id": "H9NNKu2vk1WF"
      }
    },
    {
      "cell_type": "code",
      "source": [
        "from google.colab import drive\n",
        "drive.mount('/content/drive')"
      ],
      "metadata": {
        "id": "wAFaeQcHCz0r",
        "colab": {
          "base_uri": "https://localhost:8080/"
        },
        "outputId": "cdac42de-c8ac-4b9e-eb79-230c1189aa64"
      },
      "execution_count": null,
      "outputs": [
        {
          "output_type": "stream",
          "name": "stdout",
          "text": [
            "Mounted at /content/drive\n"
          ]
        }
      ]
    },
    {
      "cell_type": "code",
      "source": [
        "cd /content/drive/MyDrive/kmeans"
      ],
      "metadata": {
        "id": "0cMWhVKNCz3L",
        "colab": {
          "base_uri": "https://localhost:8080/"
        },
        "outputId": "fc62a156-c1e9-4c4b-8b15-c41147e17bd0"
      },
      "execution_count": null,
      "outputs": [
        {
          "output_type": "stream",
          "name": "stdout",
          "text": [
            "[Errno 2] No such file or directory: '/content/drive/MyDrive/kmeans'\n",
            "/content\n"
          ]
        }
      ]
    },
    {
      "cell_type": "markdown",
      "source": [
        "Read dataset\n"
      ],
      "metadata": {
        "id": "-vhNdIJJk7KT"
      }
    },
    {
      "cell_type": "code",
      "source": [
        "df = pd.read_csv(\"boston_crime.csv\",encoding='latin-1')                                                                                       "
      ],
      "metadata": {
        "id": "BJB_yUsJcmWP"
      },
      "execution_count": null,
      "outputs": []
    },
    {
      "cell_type": "code",
      "source": [
        "print(\"Dataset\")\n",
        "df"
      ],
      "metadata": {
        "id": "yBQCnk8xBYfF",
        "colab": {
          "base_uri": "https://localhost:8080/",
          "height": 731
        },
        "outputId": "f26ea7d4-20b0-47fa-a807-4d68c8551643"
      },
      "execution_count": null,
      "outputs": [
        {
          "output_type": "stream",
          "name": "stdout",
          "text": [
            "Dataset\n"
          ]
        },
        {
          "output_type": "execute_result",
          "data": {
            "text/plain": [
              "       INCIDENT_NUMBER  OFFENSE_CODE  OFFENSE_CODE_GROUP  \\\n",
              "0           I182080058          2403  Disorderly Conduct   \n",
              "1           I182080053          3201       Property Lost   \n",
              "2           I182080052          2647               Other   \n",
              "3           I182080051           413  Aggravated Assault   \n",
              "4           I182080050          3122            Aircraft   \n",
              "...                ...           ...                 ...   \n",
              "327815   I050310906-00          3125     Warrant Arrests   \n",
              "327816   I030217815-08           111            Homicide   \n",
              "327817   I030217815-08          3125     Warrant Arrests   \n",
              "327818   I010370257-00          3125     Warrant Arrests   \n",
              "327819       142052550          3125     Warrant Arrests   \n",
              "\n",
              "                        OFFENSE_DESCRIPTION DISTRICT REPORTING_AREA SHOOTING  \\\n",
              "0                      DISTURBING THE PEACE      E18            495      NaN   \n",
              "1                           PROPERTY - LOST      D14            795      NaN   \n",
              "2                 THREATS TO DO BODILY HARM       B2            329      NaN   \n",
              "3            ASSAULT - AGGRAVATED - BATTERY       A1             92      NaN   \n",
              "4                        AIRCRAFT INCIDENTS       A7             36      NaN   \n",
              "...                                     ...      ...            ...      ...   \n",
              "327815                       WARRANT ARREST       D4            285      NaN   \n",
              "327816  MURDER, NON-NEGLIGIENT MANSLAUGHTER      E18            520      NaN   \n",
              "327817                       WARRANT ARREST      E18            520      NaN   \n",
              "327818                       WARRANT ARREST      E13            569      NaN   \n",
              "327819                       WARRANT ARREST       D4            903      NaN   \n",
              "\n",
              "           OCCURRED_ON_DATE  YEAR  MONTH DAY_OF_WEEK  HOUR    UCR_PART  \\\n",
              "0       2018-10-03 20:13:00  2018     10   Wednesday    20    Part Two   \n",
              "1       2018-08-30 20:00:00  2018      8    Thursday    20  Part Three   \n",
              "2       2018-10-03 19:20:00  2018     10   Wednesday    19    Part Two   \n",
              "3       2018-10-03 20:00:00  2018     10   Wednesday    20    Part One   \n",
              "4       2018-10-03 20:49:00  2018     10   Wednesday    20  Part Three   \n",
              "...                     ...   ...    ...         ...   ...         ...   \n",
              "327815  2016-06-05 17:25:00  2016      6      Sunday    17  Part Three   \n",
              "327816  2015-07-09 13:38:00  2015      7    Thursday    13    Part One   \n",
              "327817  2015-07-09 13:38:00  2015      7    Thursday    13  Part Three   \n",
              "327818  2016-05-31 19:35:00  2016      5     Tuesday    19  Part Three   \n",
              "327819  2015-06-22 00:12:00  2015      6      Monday     0  Part Three   \n",
              "\n",
              "                   STREET        Lat       Long                     Location  \n",
              "0            ARLINGTON ST  42.262608 -71.121186  (42.26260773, -71.12118637)  \n",
              "1              ALLSTON ST  42.352111 -71.135311  (42.35211146, -71.13531147)  \n",
              "2                DEVON ST  42.308126 -71.076930  (42.30812619, -71.07692974)  \n",
              "3            CAMBRIDGE ST  42.359454 -71.059648  (42.35945371, -71.05964817)  \n",
              "4             PRESCOTT ST  42.375258 -71.024663  (42.37525782, -71.02466343)  \n",
              "...                   ...        ...        ...                          ...  \n",
              "327815        COVENTRY ST  42.336951 -71.085748  (42.33695098, -71.08574813)  \n",
              "327816           RIVER ST  42.255926 -71.123172  (42.25592648, -71.12317207)  \n",
              "327817           RIVER ST  42.255926 -71.123172  (42.25592648, -71.12317207)  \n",
              "327818  NEW WASHINGTON ST  42.302333 -71.111565  (42.30233307, -71.11156487)  \n",
              "327819      WASHINGTON ST  42.333839 -71.080290  (42.33383935, -71.08029038)  \n",
              "\n",
              "[327820 rows x 17 columns]"
            ],
            "text/html": [
              "\n",
              "  <div id=\"df-bc96ac35-839a-4710-a53b-41807403863f\">\n",
              "    <div class=\"colab-df-container\">\n",
              "      <div>\n",
              "<style scoped>\n",
              "    .dataframe tbody tr th:only-of-type {\n",
              "        vertical-align: middle;\n",
              "    }\n",
              "\n",
              "    .dataframe tbody tr th {\n",
              "        vertical-align: top;\n",
              "    }\n",
              "\n",
              "    .dataframe thead th {\n",
              "        text-align: right;\n",
              "    }\n",
              "</style>\n",
              "<table border=\"1\" class=\"dataframe\">\n",
              "  <thead>\n",
              "    <tr style=\"text-align: right;\">\n",
              "      <th></th>\n",
              "      <th>INCIDENT_NUMBER</th>\n",
              "      <th>OFFENSE_CODE</th>\n",
              "      <th>OFFENSE_CODE_GROUP</th>\n",
              "      <th>OFFENSE_DESCRIPTION</th>\n",
              "      <th>DISTRICT</th>\n",
              "      <th>REPORTING_AREA</th>\n",
              "      <th>SHOOTING</th>\n",
              "      <th>OCCURRED_ON_DATE</th>\n",
              "      <th>YEAR</th>\n",
              "      <th>MONTH</th>\n",
              "      <th>DAY_OF_WEEK</th>\n",
              "      <th>HOUR</th>\n",
              "      <th>UCR_PART</th>\n",
              "      <th>STREET</th>\n",
              "      <th>Lat</th>\n",
              "      <th>Long</th>\n",
              "      <th>Location</th>\n",
              "    </tr>\n",
              "  </thead>\n",
              "  <tbody>\n",
              "    <tr>\n",
              "      <th>0</th>\n",
              "      <td>I182080058</td>\n",
              "      <td>2403</td>\n",
              "      <td>Disorderly Conduct</td>\n",
              "      <td>DISTURBING THE PEACE</td>\n",
              "      <td>E18</td>\n",
              "      <td>495</td>\n",
              "      <td>NaN</td>\n",
              "      <td>2018-10-03 20:13:00</td>\n",
              "      <td>2018</td>\n",
              "      <td>10</td>\n",
              "      <td>Wednesday</td>\n",
              "      <td>20</td>\n",
              "      <td>Part Two</td>\n",
              "      <td>ARLINGTON ST</td>\n",
              "      <td>42.262608</td>\n",
              "      <td>-71.121186</td>\n",
              "      <td>(42.26260773, -71.12118637)</td>\n",
              "    </tr>\n",
              "    <tr>\n",
              "      <th>1</th>\n",
              "      <td>I182080053</td>\n",
              "      <td>3201</td>\n",
              "      <td>Property Lost</td>\n",
              "      <td>PROPERTY - LOST</td>\n",
              "      <td>D14</td>\n",
              "      <td>795</td>\n",
              "      <td>NaN</td>\n",
              "      <td>2018-08-30 20:00:00</td>\n",
              "      <td>2018</td>\n",
              "      <td>8</td>\n",
              "      <td>Thursday</td>\n",
              "      <td>20</td>\n",
              "      <td>Part Three</td>\n",
              "      <td>ALLSTON ST</td>\n",
              "      <td>42.352111</td>\n",
              "      <td>-71.135311</td>\n",
              "      <td>(42.35211146, -71.13531147)</td>\n",
              "    </tr>\n",
              "    <tr>\n",
              "      <th>2</th>\n",
              "      <td>I182080052</td>\n",
              "      <td>2647</td>\n",
              "      <td>Other</td>\n",
              "      <td>THREATS TO DO BODILY HARM</td>\n",
              "      <td>B2</td>\n",
              "      <td>329</td>\n",
              "      <td>NaN</td>\n",
              "      <td>2018-10-03 19:20:00</td>\n",
              "      <td>2018</td>\n",
              "      <td>10</td>\n",
              "      <td>Wednesday</td>\n",
              "      <td>19</td>\n",
              "      <td>Part Two</td>\n",
              "      <td>DEVON ST</td>\n",
              "      <td>42.308126</td>\n",
              "      <td>-71.076930</td>\n",
              "      <td>(42.30812619, -71.07692974)</td>\n",
              "    </tr>\n",
              "    <tr>\n",
              "      <th>3</th>\n",
              "      <td>I182080051</td>\n",
              "      <td>413</td>\n",
              "      <td>Aggravated Assault</td>\n",
              "      <td>ASSAULT - AGGRAVATED - BATTERY</td>\n",
              "      <td>A1</td>\n",
              "      <td>92</td>\n",
              "      <td>NaN</td>\n",
              "      <td>2018-10-03 20:00:00</td>\n",
              "      <td>2018</td>\n",
              "      <td>10</td>\n",
              "      <td>Wednesday</td>\n",
              "      <td>20</td>\n",
              "      <td>Part One</td>\n",
              "      <td>CAMBRIDGE ST</td>\n",
              "      <td>42.359454</td>\n",
              "      <td>-71.059648</td>\n",
              "      <td>(42.35945371, -71.05964817)</td>\n",
              "    </tr>\n",
              "    <tr>\n",
              "      <th>4</th>\n",
              "      <td>I182080050</td>\n",
              "      <td>3122</td>\n",
              "      <td>Aircraft</td>\n",
              "      <td>AIRCRAFT INCIDENTS</td>\n",
              "      <td>A7</td>\n",
              "      <td>36</td>\n",
              "      <td>NaN</td>\n",
              "      <td>2018-10-03 20:49:00</td>\n",
              "      <td>2018</td>\n",
              "      <td>10</td>\n",
              "      <td>Wednesday</td>\n",
              "      <td>20</td>\n",
              "      <td>Part Three</td>\n",
              "      <td>PRESCOTT ST</td>\n",
              "      <td>42.375258</td>\n",
              "      <td>-71.024663</td>\n",
              "      <td>(42.37525782, -71.02466343)</td>\n",
              "    </tr>\n",
              "    <tr>\n",
              "      <th>...</th>\n",
              "      <td>...</td>\n",
              "      <td>...</td>\n",
              "      <td>...</td>\n",
              "      <td>...</td>\n",
              "      <td>...</td>\n",
              "      <td>...</td>\n",
              "      <td>...</td>\n",
              "      <td>...</td>\n",
              "      <td>...</td>\n",
              "      <td>...</td>\n",
              "      <td>...</td>\n",
              "      <td>...</td>\n",
              "      <td>...</td>\n",
              "      <td>...</td>\n",
              "      <td>...</td>\n",
              "      <td>...</td>\n",
              "      <td>...</td>\n",
              "    </tr>\n",
              "    <tr>\n",
              "      <th>327815</th>\n",
              "      <td>I050310906-00</td>\n",
              "      <td>3125</td>\n",
              "      <td>Warrant Arrests</td>\n",
              "      <td>WARRANT ARREST</td>\n",
              "      <td>D4</td>\n",
              "      <td>285</td>\n",
              "      <td>NaN</td>\n",
              "      <td>2016-06-05 17:25:00</td>\n",
              "      <td>2016</td>\n",
              "      <td>6</td>\n",
              "      <td>Sunday</td>\n",
              "      <td>17</td>\n",
              "      <td>Part Three</td>\n",
              "      <td>COVENTRY ST</td>\n",
              "      <td>42.336951</td>\n",
              "      <td>-71.085748</td>\n",
              "      <td>(42.33695098, -71.08574813)</td>\n",
              "    </tr>\n",
              "    <tr>\n",
              "      <th>327816</th>\n",
              "      <td>I030217815-08</td>\n",
              "      <td>111</td>\n",
              "      <td>Homicide</td>\n",
              "      <td>MURDER, NON-NEGLIGIENT MANSLAUGHTER</td>\n",
              "      <td>E18</td>\n",
              "      <td>520</td>\n",
              "      <td>NaN</td>\n",
              "      <td>2015-07-09 13:38:00</td>\n",
              "      <td>2015</td>\n",
              "      <td>7</td>\n",
              "      <td>Thursday</td>\n",
              "      <td>13</td>\n",
              "      <td>Part One</td>\n",
              "      <td>RIVER ST</td>\n",
              "      <td>42.255926</td>\n",
              "      <td>-71.123172</td>\n",
              "      <td>(42.25592648, -71.12317207)</td>\n",
              "    </tr>\n",
              "    <tr>\n",
              "      <th>327817</th>\n",
              "      <td>I030217815-08</td>\n",
              "      <td>3125</td>\n",
              "      <td>Warrant Arrests</td>\n",
              "      <td>WARRANT ARREST</td>\n",
              "      <td>E18</td>\n",
              "      <td>520</td>\n",
              "      <td>NaN</td>\n",
              "      <td>2015-07-09 13:38:00</td>\n",
              "      <td>2015</td>\n",
              "      <td>7</td>\n",
              "      <td>Thursday</td>\n",
              "      <td>13</td>\n",
              "      <td>Part Three</td>\n",
              "      <td>RIVER ST</td>\n",
              "      <td>42.255926</td>\n",
              "      <td>-71.123172</td>\n",
              "      <td>(42.25592648, -71.12317207)</td>\n",
              "    </tr>\n",
              "    <tr>\n",
              "      <th>327818</th>\n",
              "      <td>I010370257-00</td>\n",
              "      <td>3125</td>\n",
              "      <td>Warrant Arrests</td>\n",
              "      <td>WARRANT ARREST</td>\n",
              "      <td>E13</td>\n",
              "      <td>569</td>\n",
              "      <td>NaN</td>\n",
              "      <td>2016-05-31 19:35:00</td>\n",
              "      <td>2016</td>\n",
              "      <td>5</td>\n",
              "      <td>Tuesday</td>\n",
              "      <td>19</td>\n",
              "      <td>Part Three</td>\n",
              "      <td>NEW WASHINGTON ST</td>\n",
              "      <td>42.302333</td>\n",
              "      <td>-71.111565</td>\n",
              "      <td>(42.30233307, -71.11156487)</td>\n",
              "    </tr>\n",
              "    <tr>\n",
              "      <th>327819</th>\n",
              "      <td>142052550</td>\n",
              "      <td>3125</td>\n",
              "      <td>Warrant Arrests</td>\n",
              "      <td>WARRANT ARREST</td>\n",
              "      <td>D4</td>\n",
              "      <td>903</td>\n",
              "      <td>NaN</td>\n",
              "      <td>2015-06-22 00:12:00</td>\n",
              "      <td>2015</td>\n",
              "      <td>6</td>\n",
              "      <td>Monday</td>\n",
              "      <td>0</td>\n",
              "      <td>Part Three</td>\n",
              "      <td>WASHINGTON ST</td>\n",
              "      <td>42.333839</td>\n",
              "      <td>-71.080290</td>\n",
              "      <td>(42.33383935, -71.08029038)</td>\n",
              "    </tr>\n",
              "  </tbody>\n",
              "</table>\n",
              "<p>327820 rows × 17 columns</p>\n",
              "</div>\n",
              "      <button class=\"colab-df-convert\" onclick=\"convertToInteractive('df-bc96ac35-839a-4710-a53b-41807403863f')\"\n",
              "              title=\"Convert this dataframe to an interactive table.\"\n",
              "              style=\"display:none;\">\n",
              "        \n",
              "  <svg xmlns=\"http://www.w3.org/2000/svg\" height=\"24px\"viewBox=\"0 0 24 24\"\n",
              "       width=\"24px\">\n",
              "    <path d=\"M0 0h24v24H0V0z\" fill=\"none\"/>\n",
              "    <path d=\"M18.56 5.44l.94 2.06.94-2.06 2.06-.94-2.06-.94-.94-2.06-.94 2.06-2.06.94zm-11 1L8.5 8.5l.94-2.06 2.06-.94-2.06-.94L8.5 2.5l-.94 2.06-2.06.94zm10 10l.94 2.06.94-2.06 2.06-.94-2.06-.94-.94-2.06-.94 2.06-2.06.94z\"/><path d=\"M17.41 7.96l-1.37-1.37c-.4-.4-.92-.59-1.43-.59-.52 0-1.04.2-1.43.59L10.3 9.45l-7.72 7.72c-.78.78-.78 2.05 0 2.83L4 21.41c.39.39.9.59 1.41.59.51 0 1.02-.2 1.41-.59l7.78-7.78 2.81-2.81c.8-.78.8-2.07 0-2.86zM5.41 20L4 18.59l7.72-7.72 1.47 1.35L5.41 20z\"/>\n",
              "  </svg>\n",
              "      </button>\n",
              "      \n",
              "  <style>\n",
              "    .colab-df-container {\n",
              "      display:flex;\n",
              "      flex-wrap:wrap;\n",
              "      gap: 12px;\n",
              "    }\n",
              "\n",
              "    .colab-df-convert {\n",
              "      background-color: #E8F0FE;\n",
              "      border: none;\n",
              "      border-radius: 50%;\n",
              "      cursor: pointer;\n",
              "      display: none;\n",
              "      fill: #1967D2;\n",
              "      height: 32px;\n",
              "      padding: 0 0 0 0;\n",
              "      width: 32px;\n",
              "    }\n",
              "\n",
              "    .colab-df-convert:hover {\n",
              "      background-color: #E2EBFA;\n",
              "      box-shadow: 0px 1px 2px rgba(60, 64, 67, 0.3), 0px 1px 3px 1px rgba(60, 64, 67, 0.15);\n",
              "      fill: #174EA6;\n",
              "    }\n",
              "\n",
              "    [theme=dark] .colab-df-convert {\n",
              "      background-color: #3B4455;\n",
              "      fill: #D2E3FC;\n",
              "    }\n",
              "\n",
              "    [theme=dark] .colab-df-convert:hover {\n",
              "      background-color: #434B5C;\n",
              "      box-shadow: 0px 1px 3px 1px rgba(0, 0, 0, 0.15);\n",
              "      filter: drop-shadow(0px 1px 2px rgba(0, 0, 0, 0.3));\n",
              "      fill: #FFFFFF;\n",
              "    }\n",
              "  </style>\n",
              "\n",
              "      <script>\n",
              "        const buttonEl =\n",
              "          document.querySelector('#df-bc96ac35-839a-4710-a53b-41807403863f button.colab-df-convert');\n",
              "        buttonEl.style.display =\n",
              "          google.colab.kernel.accessAllowed ? 'block' : 'none';\n",
              "\n",
              "        async function convertToInteractive(key) {\n",
              "          const element = document.querySelector('#df-bc96ac35-839a-4710-a53b-41807403863f');\n",
              "          const dataTable =\n",
              "            await google.colab.kernel.invokeFunction('convertToInteractive',\n",
              "                                                     [key], {});\n",
              "          if (!dataTable) return;\n",
              "\n",
              "          const docLinkHtml = 'Like what you see? Visit the ' +\n",
              "            '<a target=\"_blank\" href=https://colab.research.google.com/notebooks/data_table.ipynb>data table notebook</a>'\n",
              "            + ' to learn more about interactive tables.';\n",
              "          element.innerHTML = '';\n",
              "          dataTable['output_type'] = 'display_data';\n",
              "          await google.colab.output.renderOutput(dataTable, element);\n",
              "          const docLink = document.createElement('div');\n",
              "          docLink.innerHTML = docLinkHtml;\n",
              "          element.appendChild(docLink);\n",
              "        }\n",
              "      </script>\n",
              "    </div>\n",
              "  </div>\n",
              "  "
            ]
          },
          "metadata": {},
          "execution_count": 6
        }
      ]
    },
    {
      "cell_type": "code",
      "source": [
        "df1 = df[['OFFENSE_CODE_GROUP','OCCURRED_ON_DATE','YEAR','MONTH','DAY_OF_WEEK','Lat','Long']]"
      ],
      "metadata": {
        "id": "xeuXkUGICz8a"
      },
      "execution_count": null,
      "outputs": []
    },
    {
      "cell_type": "code",
      "source": [
        "df2= df[['OFFENSE_CODE_GROUP','DISTRICT','OCCURRED_ON_DATE','YEAR','MONTH','DAY_OF_WEEK','Lat','Long']]"
      ],
      "metadata": {
        "id": "EsgN6mQQCz-9"
      },
      "execution_count": null,
      "outputs": []
    },
    {
      "cell_type": "code",
      "source": [
        "df1 = df1.dropna()\n",
        "df2=df2.dropna()"
      ],
      "metadata": {
        "id": "8IIYkUKJC0Br"
      },
      "execution_count": null,
      "outputs": []
    },
    {
      "cell_type": "code",
      "source": [
        "df1.reset_index(inplace=True)\n",
        "df2.reset_index(inplace=True)"
      ],
      "metadata": {
        "id": "fu1g8zKoC0EG"
      },
      "execution_count": null,
      "outputs": []
    },
    {
      "cell_type": "code",
      "source": [
        "lis = []\n",
        "\n",
        "Lat = list(df['Lat'])\n",
        "Long = list(df['Long'])\n",
        "\n",
        "for i in range(len(Lat)):\n",
        "    li = []\n",
        "    if Lat[i] > 30 and Long[i] < -40:\n",
        "        li.append(Lat[i])\n",
        "        li.append(Long[i])\n",
        "    else:\n",
        "        li.append(np.nan)\n",
        "        li.append(np.nan)\n",
        "    lis.append(li)\n",
        "\n",
        "del Lat\n",
        "del Long\n",
        "\n",
        "\n",
        "L = np.array(lis)\n",
        "Latitude = L[:, 0]\n",
        "Longitude = L[:, 1]\n",
        "pred=round(random.uniform(0,1),2)\n",
        "df['Latitude'] = Latitude\n",
        "df['Longitude'] = Longitude\n",
        "\n",
        "df = df.dropna()"
      ],
      "metadata": {
        "id": "zRGWLv5CC0Gw"
      },
      "execution_count": null,
      "outputs": []
    },
    {
      "cell_type": "code",
      "source": [
        "l=list(df2['DISTRICT'].unique())"
      ],
      "metadata": {
        "id": "4ReKikjtC0KI"
      },
      "execution_count": null,
      "outputs": []
    },
    {
      "cell_type": "code",
      "source": [
        "l"
      ],
      "metadata": {
        "colab": {
          "base_uri": "https://localhost:8080/"
        },
        "id": "_ccKfyT_D6l1",
        "outputId": "649f22be-2f16-4239-e81f-ca9373b361d4"
      },
      "execution_count": null,
      "outputs": [
        {
          "output_type": "execute_result",
          "data": {
            "text/plain": [
              "['E18', 'D14', 'B2', 'A1', 'A7', 'C11', 'D4', 'E13', 'B3', 'C6', 'A15', 'E5']"
            ]
          },
          "metadata": {},
          "execution_count": 13
        }
      ]
    },
    {
      "cell_type": "markdown",
      "source": [
        "Weight Assignment\n"
      ],
      "metadata": {
        "id": "m703TZn0uljU"
      }
    },
    {
      "cell_type": "code",
      "source": [
        "prio={'Aggravated Assault':9,'Aircraft':8,'Arson':8,'Assembly or Gathering Violations':5,'Auto Theft':3,'Auto Theft Recovery':3,\n",
        " 'Ballistics':8,'Biological Threat':9,'Bomb Hoax':7,'Burglary - No Property Taken':2,\n",
        " 'Commercial Burglary':5,'Confidence Games':6,'Counterfeiting':7,'Criminal Harassment':9,\n",
        " 'Disorderly Conduct':4,'Drug Violation':8,\n",
        " 'Embezzlement':6,'Evading Fare':7,'Explosives':10,\n",
        " 'Fire Related Reports':9,'Firearm Discovery':7,'Firearm Violations':7,'Fraud':6,\n",
        " 'Gambling':5,\n",
        " 'HOME INVASION':5,'HUMAN TRAFFICKING':5,'HUMAN TRAFFICKING - INVOLUNTARY SERVITUDE':5,'Harassment':8,'Harbor Related Incidents':8,'Homicide':7,\n",
        " 'INVESTIGATE PERSON':6,'Investigate Person':6,'Investigate Property':6,\n",
        " 'Landlord/Tenant Disputes':6,'Larceny':2,'Larceny From Motor Vehicle':1,'License Plate Related Incidents':6,'License Violation':6,'Liquor Violation':9,\n",
        " 'Manslaughter':10,'Medical Assistance':7,'Missing Person Located':7,'Missing Person Reported':7,'Motor Vehicle Accident Response':8,\n",
        " 'Offenses Against Child / Family':8,'Operating Under the Influence':7,'Other':4,'Other Burglary':1,\n",
        " 'Phone Call Complaints':3,'Police Service Incidents':6,'Prisoner Related Incidents':7,'Property Found':5,'Property Lost':5,'Property Related Damage':5,'Prostitution':6,\n",
        " 'Recovered Stolen Property':6,'Residential Burglary':3,'Restraining Order Violations':6,'Robbery':3,\n",
        " 'Search Warrants':6,'Service':4,'Simple Assault':3,\n",
        " 'Towed':4,\n",
        " 'Vandalism':7,'Verbal Disputes':4,'Violations':7,\n",
        " 'Warrant Arrests':6 }"
      ],
      "metadata": {
        "id": "Xy_Jo9I-EPD0"
      },
      "execution_count": null,
      "outputs": []
    },
    {
      "cell_type": "markdown",
      "source": [
        "Safety Index Calculation"
      ],
      "metadata": {
        "id": "1n3Az77YLFQb"
      }
    },
    {
      "cell_type": "code",
      "source": [
        "def cal_index(loc,z):\n",
        "  df3=pd.crosstab([df2.DISTRICT,df2.MONTH==z],columns=df2['OFFENSE_CODE_GROUP'])\n",
        "  saf_index={}\n",
        "  ind=1\n",
        "  for i in l:\n",
        "    for j in df3.columns:\n",
        "      ind+=df3[j][i][1]*prio[j]\n",
        "    saf_index.update({i:ind})\n",
        "  saf_index1={}\n",
        "  mi=min(saf_index.values());ma=max(saf_index.values())\n",
        "  for i in saf_index:\n",
        "    new=(saf_index[i]-mi)/(ma-mi)\n",
        "    new=round(new,2)\n",
        "    saf_index1.update({i:new})\n",
        "  l1=[]\n",
        "  df_f=pd.DataFrame()\n",
        "  df_f['DISTRICT']=pd.DataFrame(l)\n",
        "  for i in df3.columns:\n",
        "    for j in l:\n",
        "      l1.append(df3[i][j][1])\n",
        "      df_f[i]=pd.DataFrame(l1)\n",
        "    l1=[]\n",
        "  df_f['SI']=saf_index1.values()\n",
        "  for i in saf_index1:\n",
        "    if i==loc:\n",
        "      if saf_index1[i]<0.7:\n",
        "        print(\"The location \",loc,\" is Safe with index\",saf_index1[i])\n",
        "      else :\n",
        "        print(\"The location \",loc,\"is UnSafe with index\",saf_index1[i])\n",
        "  return df_f"
      ],
      "metadata": {
        "id": "xM8bt5lXEPGZ"
      },
      "execution_count": null,
      "outputs": []
    },
    {
      "cell_type": "markdown",
      "source": [
        "Prediction Model\n"
      ],
      "metadata": {
        "id": "c2pESsQ7EEjV"
      }
    },
    {
      "cell_type": "code",
      "source": [
        "import pandas\n",
        "from sklearn import linear_model\n",
        "from sklearn.preprocessing import LabelEncoder\n",
        "from sklearn.feature_selection import SelectKBest\n",
        "from sklearn.feature_selection import f_classif\n",
        "loc=input(\" Enter location: \")\n",
        "mon=int(input(\" Enter Month \"))\n",
        "df_f=cal_index(loc,mon)\n",
        "le = LabelEncoder()\n",
        "fvalue_selector = SelectKBest(f_classif, k=10)\n",
        "X1=df_f.values[:, 1:67]\n",
        "y=df_f.values[:, -1]\n",
        "X_kbest = fvalue_selector.fit_transform(X1, y)\n",
        "d=pd.DataFrame(X_kbest)\n",
        "d['DISTRICT']=df_f['DISTRICT']\n",
        "d['SI']=df_f['SI']\n",
        "X = d.values[:, 0:11]\n",
        "y = df_f.values[:, -1]\n",
        "X[:,10] = le.fit_transform(X[:,10])\n",
        "regr = linear_model.LinearRegression()\n",
        "regr.fit(X, y)\n",
        "r2_score = regr.score(X,y)\n",
        "print(r2_score*100,'%')\n",
        "print(\"Enter input in format [31, 7, 19, 2, 3, 72, 44, 117, 57, 30, 2] \")\n",
        "print(\"It represents the frequency of top 10 crimes in a particular location and location\")\n",
        "f=[list(map(int,input().split(\" \")))]\n",
        "pred1=regr.predict(f)\n",
        "#pred = regr.predict([[31, 7, 19, 2, 3, 72, 44, 117, 57, 30, 2]])\n",
        "print(\"safety index\",pred)"
      ],
      "metadata": {
        "id": "NemtKL525DqW",
        "colab": {
          "base_uri": "https://localhost:8080/"
        },
        "outputId": "7b9159af-18e5-49cd-c497-b7d9f96fd3f4"
      },
      "execution_count": null,
      "outputs": [
        {
          "output_type": "stream",
          "name": "stdout",
          "text": [
            " Enter location: A1\n",
            " Enter MOnth 5\n",
            "The location  A1  is Safe with index 0.34\n",
            "100.0 %\n",
            "Enter input in format [31, 7, 19, 2, 3, 72, 44, 117, 57, 30, 2] \n",
            "It represents the frequency of top 10 crimes in a particular location and location\n",
            "31 2 4 34 56 23 12 67 67 34 2\n",
            "safety index 0.59\n"
          ]
        }
      ]
    },
    {
      "cell_type": "code",
      "source": [
        "X"
      ],
      "metadata": {
        "id": "VaKkarx1GY_s",
        "colab": {
          "base_uri": "https://localhost:8080/"
        },
        "outputId": "8dc0cc8d-d6a4-46f5-bd87-9a6135f6bd9e"
      },
      "execution_count": null,
      "outputs": [
        {
          "output_type": "execute_result",
          "data": {
            "text/plain": [
              "array([[43, 14, 12, 1, 3, 75, 31, 87, 102, 27, 10],\n",
              "       [75, 4, 12, 13, 5, 79, 176, 115, 57, 33, 7],\n",
              "       [72, 36, 80, 13, 6, 230, 81, 252, 330, 124, 3],\n",
              "       [35, 10, 72, 2, 4, 211, 122, 98, 26, 26, 0],\n",
              "       [36, 2, 26, 2, 2, 80, 43, 69, 62, 24, 2],\n",
              "       [82, 29, 64, 12, 5, 244, 121, 252, 272, 110, 5],\n",
              "       [79, 21, 58, 3, 5, 218, 188, 181, 66, 38, 8],\n",
              "       [63, 7, 23, 5, 1, 83, 71, 88, 64, 44, 9],\n",
              "       [50, 35, 42, 20, 5, 206, 65, 193, 327, 86, 4],\n",
              "       [43, 5, 18, 3, 4, 115, 97, 123, 62, 26, 6],\n",
              "       [13, 4, 8, 0, 2, 31, 27, 63, 19, 8, 1],\n",
              "       [27, 5, 12, 2, 0, 49, 25, 69, 57, 26, 11]], dtype=object)"
            ]
          },
          "metadata": {},
          "execution_count": 17
        }
      ]
    },
    {
      "cell_type": "code",
      "source": [
        "y"
      ],
      "metadata": {
        "id": "lK2uxUZKGkbv",
        "colab": {
          "base_uri": "https://localhost:8080/"
        },
        "outputId": "eabdf03a-d80e-4d24-ebe6-96e77b913f82"
      },
      "execution_count": null,
      "outputs": [
        {
          "output_type": "execute_result",
          "data": {
            "text/plain": [
              "array([0.0, 0.07, 0.23, 0.34, 0.39, 0.54, 0.67, 0.72, 0.85, 0.93, 0.95,\n",
              "       1.0], dtype=object)"
            ]
          },
          "metadata": {},
          "execution_count": 18
        }
      ]
    }
  ]
}